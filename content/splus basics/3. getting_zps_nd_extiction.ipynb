{
 "cells": [
  {
   "cell_type": "markdown",
   "metadata": {},
   "source": [
    "# Extinction Correction and Zero Points\n",
    "\n",
    "### This requires splusdata 4.22\n",
    "\n",
    "In this notebook, we will go through the process of correcting astronomical magnitudes for extinction and retrieving zero points in S-PLUS. \n",
    "\n",
    "We will cover:\n",
    "- Retrieving zero points from a catalog.\n",
    "- Applying extinction correction to photometric bands.\n",
    "- Visualizing the extinction-corrected magnitudes for objects."
   ]
  },
  {
   "cell_type": "markdown",
   "metadata": {},
   "source": [
    "### Retrieving the zero points\n",
    "\n",
    "splusdata has a function to retrieve the zero points from the S-PLUS catalog.\n",
    "\n",
    "The source catalog for each data release can also be found in the [S-PLUS website](http://splus.cloud/documentation)."
   ]
  },
  {
   "cell_type": "code",
   "execution_count": 1,
   "metadata": {},
   "outputs": [],
   "source": [
    "import splusdata\n",
    "\n",
    "conn = splusdata.Core()"
   ]
  },
  {
   "cell_type": "code",
   "execution_count": 4,
   "metadata": {},
   "outputs": [],
   "source": [
    "ra = 157.3058167\n",
    "dec = -44.1229222"
   ]
  },
  {
   "cell_type": "code",
   "execution_count": 5,
   "metadata": {},
   "outputs": [
    {
     "name": "stdout",
     "output_type": "stream",
     "text": [
      "Source catalog\n",
      "https://splus.cloud/files/documentation/iDR4/tabelas/iDR4_zero-points.csv\n"
     ]
    },
    {
     "data": {
      "text/html": [
       "<div>\n",
       "<style scoped>\n",
       "    .dataframe tbody tr th:only-of-type {\n",
       "        vertical-align: middle;\n",
       "    }\n",
       "\n",
       "    .dataframe tbody tr th {\n",
       "        vertical-align: top;\n",
       "    }\n",
       "\n",
       "    .dataframe thead th {\n",
       "        text-align: right;\n",
       "    }\n",
       "</style>\n",
       "<table border=\"1\" class=\"dataframe\">\n",
       "  <thead>\n",
       "    <tr style=\"text-align: right;\">\n",
       "      <th></th>\n",
       "      <th>Field</th>\n",
       "      <th>RA</th>\n",
       "      <th>DEC</th>\n",
       "      <th>ZP_u</th>\n",
       "      <th>ZP_J0378</th>\n",
       "      <th>ZP_J0395</th>\n",
       "      <th>ZP_J0410</th>\n",
       "      <th>ZP_J0430</th>\n",
       "      <th>ZP_g</th>\n",
       "      <th>ZP_J0515</th>\n",
       "      <th>ZP_r</th>\n",
       "      <th>ZP_J0660</th>\n",
       "      <th>ZP_i</th>\n",
       "      <th>ZP_J0861</th>\n",
       "      <th>ZP_z</th>\n",
       "    </tr>\n",
       "  </thead>\n",
       "  <tbody>\n",
       "    <tr>\n",
       "      <th>136</th>\n",
       "      <td>HYDRA_0148</td>\n",
       "      <td>157.38</td>\n",
       "      <td>-44.57</td>\n",
       "      <td>20.483</td>\n",
       "      <td>19.772</td>\n",
       "      <td>19.776</td>\n",
       "      <td>20.886</td>\n",
       "      <td>21.037</td>\n",
       "      <td>23.437</td>\n",
       "      <td>21.391</td>\n",
       "      <td>23.494</td>\n",
       "      <td>21.014</td>\n",
       "      <td>23.29</td>\n",
       "      <td>21.557</td>\n",
       "      <td>22.733</td>\n",
       "    </tr>\n",
       "  </tbody>\n",
       "</table>\n",
       "</div>"
      ],
      "text/plain": [
       "          Field      RA    DEC    ZP_u  ZP_J0378  ZP_J0395  ZP_J0410  \\\n",
       "136  HYDRA_0148  157.38 -44.57  20.483    19.772    19.776    20.886   \n",
       "\n",
       "     ZP_J0430    ZP_g  ZP_J0515    ZP_r  ZP_J0660   ZP_i  ZP_J0861    ZP_z  \n",
       "136    21.037  23.437    21.391  23.494    21.014  23.29    21.557  22.733  "
      ]
     },
     "execution_count": 5,
     "metadata": {},
     "output_type": "execute_result"
    }
   ],
   "source": [
    "print(\"Source catalog\")\n",
    "print(splusdata.features.zeropoints.source_cat)\n",
    "splusdata.get_zeropoint(conn, ra, dec, band = 'all')"
   ]
  },
  {
   "cell_type": "code",
   "execution_count": 6,
   "metadata": {},
   "outputs": [
    {
     "data": {
      "text/plain": [
       "23.494"
      ]
     },
     "execution_count": 6,
     "metadata": {},
     "output_type": "execute_result"
    }
   ],
   "source": [
    "splusdata.get_zeropoint(conn, ra, dec, band = 'r')"
   ]
  },
  {
   "cell_type": "markdown",
   "metadata": {},
   "source": [
    "### Applying Extinction Correction\n",
    "\n",
    "`splusdata` also has a function to apply extinction correction to the magnitudes of objects."
   ]
  },
  {
   "cell_type": "code",
   "execution_count": 2,
   "metadata": {},
   "outputs": [
    {
     "name": "stdout",
     "output_type": "stream",
     "text": [
      "Checking existing file to see if MD5 sum matches ...\n",
      "File exists. Not overwriting.\n",
      "Checking existing file to see if MD5 sum matches ...\n",
      "File exists. Not overwriting.\n"
     ]
    }
   ],
   "source": [
    "# load the extinction map, if not already downloaded\n",
    "ext = splusdata.features.extinction.SplusExtinction(\n",
    "    dustmap_dir = \"dustmaps/\"\n",
    ")\n",
    "\n",
    "ext.prepare_map()"
   ]
  },
  {
   "cell_type": "code",
   "execution_count": 3,
   "metadata": {},
   "outputs": [
    {
     "data": {
      "text/html": [
       "<div>\n",
       "<style scoped>\n",
       "    .dataframe tbody tr th:only-of-type {\n",
       "        vertical-align: middle;\n",
       "    }\n",
       "\n",
       "    .dataframe tbody tr th {\n",
       "        vertical-align: top;\n",
       "    }\n",
       "\n",
       "    .dataframe thead th {\n",
       "        text-align: right;\n",
       "    }\n",
       "</style>\n",
       "<table border=\"1\" class=\"dataframe\">\n",
       "  <thead>\n",
       "    <tr style=\"text-align: right;\">\n",
       "      <th></th>\n",
       "      <th>_hipscat_index</th>\n",
       "      <th>FIELD_</th>\n",
       "      <th>ID_</th>\n",
       "      <th>RA_</th>\n",
       "      <th>DEC_</th>\n",
       "      <th>r_petro_</th>\n",
       "      <th>zb_</th>\n",
       "      <th>zb_Min_</th>\n",
       "      <th>zb_Max_</th>\n",
       "      <th>PROB_GAL_new_</th>\n",
       "      <th>...</th>\n",
       "      <th>e_z_auto_dual</th>\n",
       "      <th>e_u_auto_dual</th>\n",
       "      <th>e_J0378_auto_dual</th>\n",
       "      <th>e_J0395_auto_dual</th>\n",
       "      <th>e_J0410_auto_dual</th>\n",
       "      <th>e_J0430_auto_dual</th>\n",
       "      <th>e_J0515_auto_dual</th>\n",
       "      <th>e_J0660_auto_dual</th>\n",
       "      <th>e_J0861_auto_dual</th>\n",
       "      <th>_dist_arcsec</th>\n",
       "    </tr>\n",
       "  </thead>\n",
       "  <tbody>\n",
       "    <tr>\n",
       "      <th>0</th>\n",
       "      <td>151960296620032</td>\n",
       "      <td>STRIPE82-0064</td>\n",
       "      <td>SPLUS.STRIPE82-0064.09756.griz</td>\n",
       "      <td>44.5248</td>\n",
       "      <td>0.4364</td>\n",
       "      <td>15.99</td>\n",
       "      <td>0.070</td>\n",
       "      <td>0.065</td>\n",
       "      <td>0.074</td>\n",
       "      <td>1.00</td>\n",
       "      <td>...</td>\n",
       "      <td>0.010472</td>\n",
       "      <td>0.110393</td>\n",
       "      <td>0.119585</td>\n",
       "      <td>0.145256</td>\n",
       "      <td>0.112169</td>\n",
       "      <td>0.066297</td>\n",
       "      <td>0.026812</td>\n",
       "      <td>0.007813</td>\n",
       "      <td>0.013805</td>\n",
       "      <td>0.150316</td>\n",
       "    </tr>\n",
       "    <tr>\n",
       "      <th>1</th>\n",
       "      <td>186235276492800</td>\n",
       "      <td>STRIPE82-0064</td>\n",
       "      <td>SPLUS.STRIPE82-0064.13149.griz</td>\n",
       "      <td>44.4441</td>\n",
       "      <td>0.5917</td>\n",
       "      <td>16.90</td>\n",
       "      <td>0.130</td>\n",
       "      <td>0.051</td>\n",
       "      <td>0.135</td>\n",
       "      <td>1.00</td>\n",
       "      <td>...</td>\n",
       "      <td>0.018859</td>\n",
       "      <td>0.157074</td>\n",
       "      <td>0.210177</td>\n",
       "      <td>0.255506</td>\n",
       "      <td>0.160339</td>\n",
       "      <td>0.099440</td>\n",
       "      <td>0.043700</td>\n",
       "      <td>0.014312</td>\n",
       "      <td>0.024750</td>\n",
       "      <td>0.183408</td>\n",
       "    </tr>\n",
       "    <tr>\n",
       "      <th>2</th>\n",
       "      <td>195722100080640</td>\n",
       "      <td>STRIPE82-0064</td>\n",
       "      <td>SPLUS.STRIPE82-0064.14326.griz</td>\n",
       "      <td>44.6020</td>\n",
       "      <td>0.6377</td>\n",
       "      <td>15.37</td>\n",
       "      <td>0.034</td>\n",
       "      <td>0.032</td>\n",
       "      <td>0.035</td>\n",
       "      <td>1.00</td>\n",
       "      <td>...</td>\n",
       "      <td>0.013745</td>\n",
       "      <td>0.052349</td>\n",
       "      <td>0.080611</td>\n",
       "      <td>0.054436</td>\n",
       "      <td>0.047681</td>\n",
       "      <td>0.042359</td>\n",
       "      <td>0.023627</td>\n",
       "      <td>0.009904</td>\n",
       "      <td>0.020323</td>\n",
       "      <td>0.193654</td>\n",
       "    </tr>\n",
       "    <tr>\n",
       "      <th>3</th>\n",
       "      <td>750897177034752</td>\n",
       "      <td>STRIPE82-0064</td>\n",
       "      <td>SPLUS.STRIPE82-0064.19483.griz</td>\n",
       "      <td>43.6273</td>\n",
       "      <td>1.2210</td>\n",
       "      <td>16.98</td>\n",
       "      <td>0.092</td>\n",
       "      <td>0.084</td>\n",
       "      <td>0.110</td>\n",
       "      <td>1.00</td>\n",
       "      <td>...</td>\n",
       "      <td>0.015228</td>\n",
       "      <td>0.280907</td>\n",
       "      <td>0.163096</td>\n",
       "      <td>0.234974</td>\n",
       "      <td>0.164247</td>\n",
       "      <td>0.123088</td>\n",
       "      <td>0.035939</td>\n",
       "      <td>0.011302</td>\n",
       "      <td>0.020236</td>\n",
       "      <td>0.132357</td>\n",
       "    </tr>\n",
       "    <tr>\n",
       "      <th>4</th>\n",
       "      <td>649699186966528</td>\n",
       "      <td>STRIPE82-0064</td>\n",
       "      <td>SPLUS.STRIPE82-0064.21473.griz</td>\n",
       "      <td>44.6013</td>\n",
       "      <td>1.1386</td>\n",
       "      <td>16.16</td>\n",
       "      <td>0.138</td>\n",
       "      <td>0.131</td>\n",
       "      <td>0.145</td>\n",
       "      <td>1.00</td>\n",
       "      <td>...</td>\n",
       "      <td>0.019261</td>\n",
       "      <td>0.162109</td>\n",
       "      <td>0.266185</td>\n",
       "      <td>0.193919</td>\n",
       "      <td>0.145862</td>\n",
       "      <td>0.124025</td>\n",
       "      <td>0.049350</td>\n",
       "      <td>0.015397</td>\n",
       "      <td>0.022174</td>\n",
       "      <td>0.152594</td>\n",
       "    </tr>\n",
       "    <tr>\n",
       "      <th>...</th>\n",
       "      <td>...</td>\n",
       "      <td>...</td>\n",
       "      <td>...</td>\n",
       "      <td>...</td>\n",
       "      <td>...</td>\n",
       "      <td>...</td>\n",
       "      <td>...</td>\n",
       "      <td>...</td>\n",
       "      <td>...</td>\n",
       "      <td>...</td>\n",
       "      <td>...</td>\n",
       "      <td>...</td>\n",
       "      <td>...</td>\n",
       "      <td>...</td>\n",
       "      <td>...</td>\n",
       "      <td>...</td>\n",
       "      <td>...</td>\n",
       "      <td>...</td>\n",
       "      <td>...</td>\n",
       "      <td>...</td>\n",
       "      <td>...</td>\n",
       "    </tr>\n",
       "    <tr>\n",
       "      <th>8748</th>\n",
       "      <td>13834483399286325248</td>\n",
       "      <td>STRIPE82-0109</td>\n",
       "      <td>SPLUS.STRIPE82-0109.32427.griz</td>\n",
       "      <td>315.8608</td>\n",
       "      <td>-0.7455</td>\n",
       "      <td>16.94</td>\n",
       "      <td>0.116</td>\n",
       "      <td>0.105</td>\n",
       "      <td>0.122</td>\n",
       "      <td>1.00</td>\n",
       "      <td>...</td>\n",
       "      <td>0.015893</td>\n",
       "      <td>0.061282</td>\n",
       "      <td>0.137266</td>\n",
       "      <td>0.146852</td>\n",
       "      <td>0.199915</td>\n",
       "      <td>0.139537</td>\n",
       "      <td>0.045471</td>\n",
       "      <td>0.014488</td>\n",
       "      <td>0.028453</td>\n",
       "      <td>0.169474</td>\n",
       "    </tr>\n",
       "    <tr>\n",
       "      <th>8749</th>\n",
       "      <td>13834489996393840640</td>\n",
       "      <td>STRIPE82-0109</td>\n",
       "      <td>SPLUS.STRIPE82-0109.35704.griz</td>\n",
       "      <td>315.6410</td>\n",
       "      <td>-0.7080</td>\n",
       "      <td>16.46</td>\n",
       "      <td>0.065</td>\n",
       "      <td>0.060</td>\n",
       "      <td>0.098</td>\n",
       "      <td>0.99</td>\n",
       "      <td>...</td>\n",
       "      <td>0.022127</td>\n",
       "      <td>2.947137</td>\n",
       "      <td>0.153139</td>\n",
       "      <td>0.258498</td>\n",
       "      <td>2.756481</td>\n",
       "      <td>0.100162</td>\n",
       "      <td>0.048756</td>\n",
       "      <td>0.019578</td>\n",
       "      <td>0.042381</td>\n",
       "      <td>0.038799</td>\n",
       "    </tr>\n",
       "    <tr>\n",
       "      <th>8750</th>\n",
       "      <td>13834867787824103424</td>\n",
       "      <td>STRIPE82-0109</td>\n",
       "      <td>SPLUS.STRIPE82-0109.38038.griz</td>\n",
       "      <td>315.4831</td>\n",
       "      <td>-0.6444</td>\n",
       "      <td>16.96</td>\n",
       "      <td>0.177</td>\n",
       "      <td>0.172</td>\n",
       "      <td>0.193</td>\n",
       "      <td>1.00</td>\n",
       "      <td>...</td>\n",
       "      <td>0.013705</td>\n",
       "      <td>0.314612</td>\n",
       "      <td>1.074042</td>\n",
       "      <td>0.599592</td>\n",
       "      <td>0.272908</td>\n",
       "      <td>0.344353</td>\n",
       "      <td>0.064248</td>\n",
       "      <td>0.014051</td>\n",
       "      <td>0.025616</td>\n",
       "      <td>0.115460</td>\n",
       "    </tr>\n",
       "    <tr>\n",
       "      <th>8751</th>\n",
       "      <td>13834886915851026432</td>\n",
       "      <td>STRIPE82-0109</td>\n",
       "      <td>SPLUS.STRIPE82-0109.39414.griz</td>\n",
       "      <td>315.2953</td>\n",
       "      <td>-0.6332</td>\n",
       "      <td>15.33</td>\n",
       "      <td>0.074</td>\n",
       "      <td>0.071</td>\n",
       "      <td>0.078</td>\n",
       "      <td>1.00</td>\n",
       "      <td>...</td>\n",
       "      <td>0.005237</td>\n",
       "      <td>0.104240</td>\n",
       "      <td>0.088146</td>\n",
       "      <td>0.103394</td>\n",
       "      <td>0.101113</td>\n",
       "      <td>0.051814</td>\n",
       "      <td>0.017873</td>\n",
       "      <td>0.005165</td>\n",
       "      <td>0.009292</td>\n",
       "      <td>0.204283</td>\n",
       "    </tr>\n",
       "    <tr>\n",
       "      <th>8752</th>\n",
       "      <td>13834880168600010752</td>\n",
       "      <td>STRIPE82-0109</td>\n",
       "      <td>SPLUS.STRIPE82-0109.44644.griz</td>\n",
       "      <td>315.4850</td>\n",
       "      <td>-0.5320</td>\n",
       "      <td>16.24</td>\n",
       "      <td>0.096</td>\n",
       "      <td>0.071</td>\n",
       "      <td>0.104</td>\n",
       "      <td>0.75</td>\n",
       "      <td>...</td>\n",
       "      <td>0.034757</td>\n",
       "      <td>0.126604</td>\n",
       "      <td>0.248360</td>\n",
       "      <td>0.198104</td>\n",
       "      <td>0.172269</td>\n",
       "      <td>0.207244</td>\n",
       "      <td>0.075051</td>\n",
       "      <td>0.030366</td>\n",
       "      <td>0.050678</td>\n",
       "      <td>0.237569</td>\n",
       "    </tr>\n",
       "  </tbody>\n",
       "</table>\n",
       "<p>8753 rows × 45 columns</p>\n",
       "</div>"
      ],
      "text/plain": [
       "            _hipscat_index         FIELD_                             ID_  \\\n",
       "0          151960296620032  STRIPE82-0064  SPLUS.STRIPE82-0064.09756.griz   \n",
       "1          186235276492800  STRIPE82-0064  SPLUS.STRIPE82-0064.13149.griz   \n",
       "2          195722100080640  STRIPE82-0064  SPLUS.STRIPE82-0064.14326.griz   \n",
       "3          750897177034752  STRIPE82-0064  SPLUS.STRIPE82-0064.19483.griz   \n",
       "4          649699186966528  STRIPE82-0064  SPLUS.STRIPE82-0064.21473.griz   \n",
       "...                    ...            ...                             ...   \n",
       "8748  13834483399286325248  STRIPE82-0109  SPLUS.STRIPE82-0109.32427.griz   \n",
       "8749  13834489996393840640  STRIPE82-0109  SPLUS.STRIPE82-0109.35704.griz   \n",
       "8750  13834867787824103424  STRIPE82-0109  SPLUS.STRIPE82-0109.38038.griz   \n",
       "8751  13834886915851026432  STRIPE82-0109  SPLUS.STRIPE82-0109.39414.griz   \n",
       "8752  13834880168600010752  STRIPE82-0109  SPLUS.STRIPE82-0109.44644.griz   \n",
       "\n",
       "           RA_    DEC_  r_petro_    zb_  zb_Min_  zb_Max_  PROB_GAL_new_  ...  \\\n",
       "0      44.5248  0.4364     15.99  0.070    0.065    0.074           1.00  ...   \n",
       "1      44.4441  0.5917     16.90  0.130    0.051    0.135           1.00  ...   \n",
       "2      44.6020  0.6377     15.37  0.034    0.032    0.035           1.00  ...   \n",
       "3      43.6273  1.2210     16.98  0.092    0.084    0.110           1.00  ...   \n",
       "4      44.6013  1.1386     16.16  0.138    0.131    0.145           1.00  ...   \n",
       "...        ...     ...       ...    ...      ...      ...            ...  ...   \n",
       "8748  315.8608 -0.7455     16.94  0.116    0.105    0.122           1.00  ...   \n",
       "8749  315.6410 -0.7080     16.46  0.065    0.060    0.098           0.99  ...   \n",
       "8750  315.4831 -0.6444     16.96  0.177    0.172    0.193           1.00  ...   \n",
       "8751  315.2953 -0.6332     15.33  0.074    0.071    0.078           1.00  ...   \n",
       "8752  315.4850 -0.5320     16.24  0.096    0.071    0.104           0.75  ...   \n",
       "\n",
       "      e_z_auto_dual  e_u_auto_dual  e_J0378_auto_dual e_J0395_auto_dual  \\\n",
       "0          0.010472       0.110393           0.119585          0.145256   \n",
       "1          0.018859       0.157074           0.210177          0.255506   \n",
       "2          0.013745       0.052349           0.080611          0.054436   \n",
       "3          0.015228       0.280907           0.163096          0.234974   \n",
       "4          0.019261       0.162109           0.266185          0.193919   \n",
       "...             ...            ...                ...               ...   \n",
       "8748       0.015893       0.061282           0.137266          0.146852   \n",
       "8749       0.022127       2.947137           0.153139          0.258498   \n",
       "8750       0.013705       0.314612           1.074042          0.599592   \n",
       "8751       0.005237       0.104240           0.088146          0.103394   \n",
       "8752       0.034757       0.126604           0.248360          0.198104   \n",
       "\n",
       "      e_J0410_auto_dual  e_J0430_auto_dual  e_J0515_auto_dual  \\\n",
       "0              0.112169           0.066297           0.026812   \n",
       "1              0.160339           0.099440           0.043700   \n",
       "2              0.047681           0.042359           0.023627   \n",
       "3              0.164247           0.123088           0.035939   \n",
       "4              0.145862           0.124025           0.049350   \n",
       "...                 ...                ...                ...   \n",
       "8748           0.199915           0.139537           0.045471   \n",
       "8749           2.756481           0.100162           0.048756   \n",
       "8750           0.272908           0.344353           0.064248   \n",
       "8751           0.101113           0.051814           0.017873   \n",
       "8752           0.172269           0.207244           0.075051   \n",
       "\n",
       "     e_J0660_auto_dual  e_J0861_auto_dual  _dist_arcsec  \n",
       "0             0.007813           0.013805      0.150316  \n",
       "1             0.014312           0.024750      0.183408  \n",
       "2             0.009904           0.020323      0.193654  \n",
       "3             0.011302           0.020236      0.132357  \n",
       "4             0.015397           0.022174      0.152594  \n",
       "...                ...                ...           ...  \n",
       "8748          0.014488           0.028453      0.169474  \n",
       "8749          0.019578           0.042381      0.038799  \n",
       "8750          0.014051           0.025616      0.115460  \n",
       "8751          0.005165           0.009292      0.204283  \n",
       "8752          0.030366           0.050678      0.237569  \n",
       "\n",
       "[8753 rows x 45 columns]"
      ]
     },
     "execution_count": 3,
     "metadata": {},
     "output_type": "execute_result"
    }
   ],
   "source": [
    "import pandas as pd\n",
    "import matplotlib.pyplot as plt\n",
    "\n",
    "# get our example table from the lsdb example\n",
    "df = pd.read_csv(\"tables/some_galaxies_match_dr4dual.csv\")\n",
    "df"
   ]
  },
  {
   "cell_type": "markdown",
   "metadata": {},
   "source": [
    "#### Plotting the magnitudes without extinction correction"
   ]
  },
  {
   "cell_type": "code",
   "execution_count": 4,
   "metadata": {},
   "outputs": [
    {
     "name": "stdout",
     "output_type": "stream",
     "text": [
      "Index(['_hipscat_index', 'FIELD_', 'ID_', 'RA_', 'DEC_', 'r_petro_', 'zb_',\n",
      "       'zb_Min_', 'zb_Max_', 'PROB_GAL_new_', 'SPIRAL_', 'ELLIPTICAL_',\n",
      "       'UNCERTAIN_', 'simple_class_', 'Norder_', 'Dir_', 'Npix_', 'ID_dual',\n",
      "       'RA_dual', 'DEC_dual', 'r_auto_dual', 'g_auto_dual', 'i_auto_dual',\n",
      "       'z_auto_dual', 'u_auto_dual', 'J0378_auto_dual', 'J0395_auto_dual',\n",
      "       'J0410_auto_dual', 'J0430_auto_dual', 'J0515_auto_dual',\n",
      "       'J0660_auto_dual', 'J0861_auto_dual', 'e_r_auto_dual', 'e_g_auto_dual',\n",
      "       'e_i_auto_dual', 'e_z_auto_dual', 'e_u_auto_dual', 'e_J0378_auto_dual',\n",
      "       'e_J0395_auto_dual', 'e_J0410_auto_dual', 'e_J0430_auto_dual',\n",
      "       'e_J0515_auto_dual', 'e_J0660_auto_dual', 'e_J0861_auto_dual',\n",
      "       '_dist_arcsec'],\n",
      "      dtype='object')\n"
     ]
    }
   ],
   "source": [
    "print(df.columns)"
   ]
  },
  {
   "cell_type": "code",
   "execution_count": 5,
   "metadata": {},
   "outputs": [
    {
     "name": "stdout",
     "output_type": "stream",
     "text": [
      "['u', 'J0378', 'J0395', 'J0410', 'J0430', 'g', 'J0515', 'r', 'J0660', 'i', 'J0861', 'z']\n",
      "['u_auto_dual', 'J0378_auto_dual', 'J0395_auto_dual', 'J0410_auto_dual', 'J0430_auto_dual', 'g_auto_dual', 'J0515_auto_dual', 'r_auto_dual', 'J0660_auto_dual', 'i_auto_dual', 'J0861_auto_dual', 'z_auto_dual']\n",
      "['e_u_auto_dual', 'e_J0378_auto_dual', 'e_J0395_auto_dual', 'e_J0410_auto_dual', 'e_J0430_auto_dual', 'e_g_auto_dual', 'e_J0515_auto_dual', 'e_r_auto_dual', 'e_J0660_auto_dual', 'e_i_auto_dual', 'e_J0861_auto_dual', 'e_z_auto_dual']\n"
     ]
    }
   ],
   "source": [
    "print(splusdata.BANDS)\n",
    "\n",
    "mag_cols = [col + \"_auto_dual\" for col in splusdata.BANDS]\n",
    "mag_err_cols = [\"e_\" + col + \"_auto_dual\" for col in splusdata.BANDS]\n",
    "\n",
    "print(mag_cols)\n",
    "print(mag_err_cols)"
   ]
  },
  {
   "cell_type": "code",
   "execution_count": 6,
   "metadata": {},
   "outputs": [
    {
     "data": {
      "image/png": "[encoded data removed]",
      "text/plain": [
       "<Figure size 640x480 with 1 Axes>"
      ]
     },
     "metadata": {},
     "output_type": "display_data"
    }
   ],
   "source": [
    "# selecting object\n",
    "row = df.iloc[0]\n",
    "\n",
    "for i, band in enumerate(splusdata.BANDS):          \n",
    "    plt.errorbar(splusdata.WAVELENGHTS[i], row[mag_cols[i]], yerr=row[mag_err_cols[i]], fmt='o', label=band)\n",
    "\n",
    "plt.title(row[\"ID_dual\"])\n",
    "plt.gca().invert_yaxis()    \n",
    "plt.xlabel(\"Wavelength [A]\")\n",
    "plt.ylabel(\"Magnitude\")\n",
    "plt.legend()\n",
    "plt.show()"
   ]
  },
  {
   "cell_type": "markdown",
   "metadata": {},
   "source": [
    "### Get extinction values and apply extinction correction"
   ]
  },
  {
   "cell_type": "code",
   "execution_count": 7,
   "metadata": {},
   "outputs": [],
   "source": [
    "df = ext.get_extinction(df, ra_col = \"RA_dual\", dec_col = \"DEC_dual\")\n",
    "\n",
    "df = ext.apply(\n",
    "    df, \n",
    "    mag_cols = mag_cols # it is important to be in ascending order by wavelength\n",
    ")"
   ]
  },
  {
   "cell_type": "code",
   "execution_count": 8,
   "metadata": {},
   "outputs": [
    {
     "data": {
      "text/plain": [
       "Index(['_hipscat_index', 'FIELD_', 'ID_', 'RA_', 'DEC_', 'r_petro_', 'zb_',\n",
       "       'zb_Min_', 'zb_Max_', 'PROB_GAL_new_', 'SPIRAL_', 'ELLIPTICAL_',\n",
       "       'UNCERTAIN_', 'simple_class_', 'Norder_', 'Dir_', 'Npix_', 'ID_dual',\n",
       "       'RA_dual', 'DEC_dual', 'r_auto_dual', 'g_auto_dual', 'i_auto_dual',\n",
       "       'z_auto_dual', 'u_auto_dual', 'J0378_auto_dual', 'J0395_auto_dual',\n",
       "       'J0410_auto_dual', 'J0430_auto_dual', 'J0515_auto_dual',\n",
       "       'J0660_auto_dual', 'J0861_auto_dual', 'e_r_auto_dual', 'e_g_auto_dual',\n",
       "       'e_i_auto_dual', 'e_z_auto_dual', 'e_u_auto_dual', 'e_J0378_auto_dual',\n",
       "       'e_J0395_auto_dual', 'e_J0410_auto_dual', 'e_J0430_auto_dual',\n",
       "       'e_J0515_auto_dual', 'e_J0660_auto_dual', 'e_J0861_auto_dual',\n",
       "       '_dist_arcsec', 'ext_u', 'ext_J0378', 'ext_J0395', 'ext_J0410',\n",
       "       'ext_J0430', 'ext_g', 'ext_J0515', 'ext_r', 'ext_J0660', 'ext_i',\n",
       "       'ext_J0861', 'ext_z'],\n",
       "      dtype='object')"
      ]
     },
     "execution_count": 8,
     "metadata": {},
     "output_type": "execute_result"
    }
   ],
   "source": [
    "df.columns"
   ]
  },
  {
   "cell_type": "markdown",
   "metadata": {},
   "source": [
    "### Plotting the extinction values and magnitudes with extinction correction"
   ]
  },
  {
   "cell_type": "code",
   "execution_count": 20,
   "metadata": {},
   "outputs": [
    {
     "data": {
      "image/png": "[encoded data removed]",
      "text/plain": [
       "<Figure size 640x480 with 1 Axes>"
      ]
     },
     "metadata": {},
     "output_type": "display_data"
    }
   ],
   "source": [
    "# values of the extinction\n",
    "ext_cols = [\"ext_\" + col for col in splusdata.BANDS]\n",
    "\n",
    "row = df.iloc[0]\n",
    "\n",
    "for i, band in enumerate(splusdata.BANDS):          \n",
    "    plt.errorbar(splusdata.WAVELENGHTS[i], row[ext_cols[i]], fmt='o', label=band)\n",
    "\n",
    "plt.xlabel(\"Wavelength [A]\")\n",
    "plt.ylabel(\"Extinction value\")\n",
    "plt.legend()\n",
    "plt.show()\n"
   ]
  },
  {
   "cell_type": "code",
   "execution_count": 25,
   "metadata": {},
   "outputs": [],
   "source": [
    "# columns with the extinction corrected magnitudes\n",
    "extcorr_cols = [col + \"_auto_dual_extcorr\" for col in splusdata.BANDS]"
   ]
  },
  {
   "cell_type": "code",
   "execution_count": 27,
   "metadata": {},
   "outputs": [
    {
     "data": {
      "image/png": "[encoded data removed]",
      "text/plain": [
       "<Figure size 640x480 with 1 Axes>"
      ]
     },
     "metadata": {},
     "output_type": "display_data"
    }
   ],
   "source": [
    "# selecting object\n",
    "row = df.iloc[0]\n",
    "\n",
    "for i, band in enumerate(splusdata.BANDS):          \n",
    "    plt.errorbar(splusdata.WAVELENGHTS[i], row[extcorr_cols[i]], yerr=row[mag_err_cols[i]], fmt='o', label=band)\n",
    "\n",
    "plt.title(row[\"ID_dual\"])\n",
    "plt.gca().invert_yaxis()    \n",
    "plt.xlabel(\"Wavelength [A]\")\n",
    "plt.ylabel(\"Magnitude\")\n",
    "plt.legend()\n",
    "plt.show()"
   ]
  },
  {
   "cell_type": "code",
   "execution_count": null,
   "metadata": {},
   "outputs": [],
   "source": []
  }
 ],
 "metadata": {
  "kernelspec": {
   "display_name": "base",
   "language": "python",
   "name": "python3"
  },
  "language_info": {
   "codemirror_mode": {
    "name": "ipython",
    "version": 3
   },
   "file_extension": ".py",
   "mimetype": "text/x-python",
   "name": "python",
   "nbconvert_exporter": "python",
   "pygments_lexer": "ipython3",
   "version": "3.12.2"
  }
 },
 "nbformat": 4,
 "nbformat_minor": 2
}
