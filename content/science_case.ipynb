{
 "cells": [
  {
   "cell_type": "markdown",
   "id": "279a5a42-59b8-46c2-abc7-5fb97f58ac27",
   "metadata": {},
   "source": [
    "# Workshop hands-on\n",
    "\n",
    "The proposed exercise here will guide you through two simple examples using\n",
    "the [S-PLUS DR4][1]. For the execution of this hands-on, you will follow \n",
    "some of the documentation and code examples given during the first part of \n",
    "this workshop. In particular, we will use [LSDB][2], [splusdata][3] and some \n",
    "common Python libraries like [NumPy][4] (for calculations) and \n",
    "[Matplotlib][5] (for plots). In addition to the mentioned technical tools, \n",
    "the exercise require data from the the S-PLUS DR4, associated VACs and the \n",
    "[GAIA DR3 catalog][6].\n",
    "\n",
    "## Proposed science cases:\n",
    "\n",
    ">1. Create a [galaxy CMD][7] (e.g., *g-r* vs *r*) diagram for galaxies identified by\n",
    "the [S-PLUS DR4 QSO/star/galaxy VAC][8] and make a *mag* vs *filter* plot for the\n",
    "5 objects with higher **J0660** magnitude.\n",
    ">2. Create an [observational H.R. Diagram][9] for stars identified by the same\n",
    "catalog, crossmatching with [GAIA DR3 catalog][6] for the desired region.\n",
    "\n",
    "## Additional information\n",
    "\n",
    "- For both cases, the choice of the celestial coordinates (right ascencion and \n",
    "Declination) and cone-search radius are free. \n",
    "- The [S-PLUS DR4][1] provides data for six different appertures (*PStotal*,\n",
    "*aper_3*, *aper_6*, *auto*, *petro* and *iso*).\n",
    "> The suggestion is to use **PStotal** aperture when available. Read more\n",
    "about the different appertures and photometry modes at [S-PLUS DR4 paper][1] \n",
    "or [S-PLUS DR4 on-line documentation][10].\n",
    "- Look for the code examples given at last classes.\n",
    "- [GAIA DR3][6] has a HiPSCat to use with [LSDB][2] with some limitations.\n",
    "> Read more about GAIA DR3 HiPSCat: <https://data.lsdb.io/>\n",
    "\n",
    "[1]: <https://www.aanda.org/articles/aa/pdf/forth/aa49725-24.pdf> \"The Fourth S-PLUS Data Release: 12-filter photometry covering ~3000 square degrees in the southern hemisphere\"\n",
    "[2]: <https://lsdb.readthedocs.io/en/stable/> \"Large Survey DataBase python framework\"\n",
    "[3]: <https://github.com/Schwarzam/splusdata> \"S-PLUS data python package\"\n",
    "[4]: <https://numpy.org/> \"NumPy: scientific computing with Python\"\n",
    "[5]: <https://matplotlib.org/> \"Matplotlib: Visualization with Python\"\n",
    "[6]: <https://www.cosmos.esa.int/web/gaia/data-release-3> \"GAIA Data Release 3\"\n",
    "[7]: <https://en.wikipedia.org/wiki/Galaxy_color%E2%80%93magnitude_diagram> \"Galaxy color-magnitude diagram\"\n",
    "[8]: <https://splus.cloud/documentation/DR4?QSO/star/galaxy_classification> \"QSO/star/galaxy classification VAC\"\n",
    "[9]: <https://en.wikipedia.org/wiki/Hertzsprung%E2%80%93Russell_diagram#/media/File:HRDiagram.png> \"Observational Hertzsprung-Russel Diagram\"\n",
    "[10]: <https://splus.cloud/documentation/DR4> \"S-PLUS DR4 on-line documentation\"\n",
    "\n",
    "<hr>"
   ]
  },
  {
   "cell_type": "markdown",
   "id": "01b92b5f-5045-48a0-95d7-53b83c92a308",
   "metadata": {},
   "source": [
    "# Solution for the fist science case"
   ]
  },
  {
   "cell_type": "code",
   "execution_count": 1,
   "id": "9584cfef-1b73-424d-a0f8-3e0e4ed4611c",
   "metadata": {},
   "outputs": [
    {
     "name": "stdout",
     "output_type": "stream",
     "text": [
      "<Client: 'tcp://127.0.0.1:44083' processes=10 threads=20, memory=74.51 GiB>\n",
      "dr4_vacs\n",
      "\tqso_z\n",
      "\t\thipscats\n",
      "\t\t\t['qso_z']\n",
      "\t\tmargins\n",
      "\t\t\t['qso_z_2arcsec']\n",
      "\tphotozs\n",
      "\t\thipscats\n",
      "\t\t\t['photozs']\n",
      "\t\tmargins\n",
      "\t\t\t['photozs_2arcsec']\n",
      "\tcalib_flag\n",
      "\t\thipscats\n",
      "\t\t\t['calib_flag']\n",
      "\t\tmargins\n",
      "\t\t\t['calib_flag_2arcsec']\n",
      "\tsqg\n",
      "\t\thipscats\n",
      "\t\t\t['sqg']\n",
      "\t\tmargins\n",
      "\t\t\t['sqg_2arcsec']\n",
      "sdr1\n",
      "\thipscats\n",
      "\t\t['shorts']\n",
      "\tmargins\n",
      "\t\t['shorts_2arcsec']\n",
      "dr4\n",
      "\thipscats\n",
      "\t\t['single', 'dual', 'psf']\n",
      "\tmargins\n",
      "\t\t['psf_2arcsec', 'single_2arcsec', 'dual_2arcsec']\n"
     ]
    }
   ],
   "source": [
    "# needed Python imports\n",
    "# imports for data retrieve\n",
    "import lsdb\n",
    "import splusdata\n",
    "from dask.distributed import Client\n",
    "# imports for plot and calculation\n",
    "import numpy as np\n",
    "from matplotlib import pyplot as plt\n",
    "\n",
    "# auxiliar functions and variables\n",
    "splus_bands = [\n",
    "    'u', 'g', 'r', 'i', 'z', \n",
    "    'J0378', 'J0395', 'J0410',\n",
    "    'J0430', 'J0515', 'J0660', 'J0861',\n",
    "]\n",
    "def print_dict(d, i=0):\n",
    "    for k, v in d.items():\n",
    "        print('\\t'*i + str(k))\n",
    "        if isinstance(v, dict):\n",
    "            print_dict(v, i+1)\n",
    "        else:\n",
    "            print('\\t'*(i+1) + str(v))\n",
    "\n",
    "# Start a Dask client for the parallel process used by lsdb\n",
    "client = Client(n_workers=10, memory_limit='8GB')\n",
    "print(client) \n",
    "\n",
    "# List HiPSCat catalogs available on S-PLUS servers\n",
    "print_dict(splusdata.get_hipscats())"
   ]
  },
  {
   "cell_type": "code",
   "execution_count": 2,
   "id": "7a6d1c6a-46d1-44cc-b03f-f202f5a055f0",
   "metadata": {},
   "outputs": [
    {
     "name": "stdout",
     "output_type": "stream",
     "text": [
      "dr4/dual search: [['https://splus.cloud/HIPS/catalogs/dr4/dual', 'https://splus.cloud/HIPS/catalogs/dr4/dual_2arcsec']]\n",
      "dr4/sqg search: [['https://splus.cloud/HIPS/catalogs/dr4_vacs/sqg/sqg', 'https://splus.cloud/HIPS/catalogs/dr4_vacs/sqg/sqg_2arcsec']]\n"
     ]
    }
   ],
   "source": [
    "# search for the full S-PLUS DR4/dual mode catalog\n",
    "dr4dual_search = splusdata.get_hipscats('dr4/dual')\n",
    "'''\n",
    "Here we search for the DR4 data with dual photomery mode.\n",
    "\n",
    "From S-PLUS DR4 FAQ: (https://splus.cloud/documentation/DR4?FAQ)\n",
    "\n",
    "    What is the difference between ‘single’, ‘dual’ and ‘psf’?\n",
    "    \n",
    "    Single yields photometry done using Sextractor on each image, \n",
    "    for a given filter, using only that image as a detection image. \n",
    "    Note that in this case, measured parameters such as radii are \n",
    "    different for each filter. Dual yields photometry done using \n",
    "    Sextractor on each image, for a given filter, using as a \n",
    "    detection image the sum of g+r+i+z. Therefore, in dual mode, \n",
    "    detections characterized in the same way are measured in every \n",
    "    filter. Psf yields photometry done using dophot on each image, \n",
    "    for a given filter, using only that image as a detection image. \n",
    "    See Section ‘Photometry’ for more details.\n",
    "    \n",
    "    Photometry Section: \n",
    "        https://splus.cloud/documentation/DR4?Photometry\n",
    "'''\n",
    "# Print all catalogs found with the pattern above\n",
    "print(f'dr4/dual search: {dr4dual_search}')\n",
    "# select the first catalog found\n",
    "dr4dual_hipscat, dr4dual_margin_cache_hipscat = dr4dual_search[0]\n",
    "\n",
    "# Search for the DR4 Star Galaxy Quasar VAC\n",
    "'''\n",
    "QSO/star/galaxy classification VAC: \n",
    "    https://splus.cloud/documentation/DR4?QSO/star/galaxy_classification\n",
    "'''\n",
    "dr4sqg_search = splusdata.get_hipscats('dr4/sqg')\n",
    "# Print all catalogs found with the pattern above\n",
    "print(f'dr4/sqg search: {dr4sqg_search}')\n",
    "# select the first catalog found\n",
    "dr4sqg_hipscat, dr4sqg_margin_cache_hipscat = dr4sqg_search[0]"
   ]
  },
  {
   "cell_type": "code",
   "execution_count": 3,
   "id": "6de14c4b-bd65-426f-a914-4c5f0107ec02",
   "metadata": {},
   "outputs": [
    {
     "name": "stdout",
     "output_type": "stream",
     "text": [
      "Columns: ['ID', 'Field', 'RA', 'DEC', 'u_auto', 'g_auto', 'r_auto', 'i_auto', 'z_auto', 'J0378_auto', 'J0395_auto', 'J0410_auto', 'J0430_auto', 'J0515_auto', 'J0660_auto', 'J0861_auto', 's2n_u_auto', 's2n_g_auto', 's2n_r_auto', 's2n_i_auto', 's2n_z_auto', 's2n_J0378_auto', 's2n_J0395_auto', 's2n_J0410_auto', 's2n_J0430_auto', 's2n_J0515_auto', 's2n_J0660_auto', 's2n_J0861_auto']\n",
      "Filters [('s2n_u_auto', '>', 3), ('s2n_g_auto', '>', 3), ('s2n_r_auto', '>', 3), ('s2n_i_auto', '>', 3), ('s2n_z_auto', '>', 3), ('s2n_J0378_auto', '>', 3), ('s2n_J0395_auto', '>', 3), ('s2n_J0410_auto', '>', 3), ('s2n_J0430_auto', '>', 3), ('s2n_J0515_auto', '>', 3), ('s2n_J0660_auto', '>', 3), ('s2n_J0861_auto', '>', 3)]\n"
     ]
    }
   ],
   "source": [
    "# Create the columns list to retrieve only necessaries columns\n",
    "'''\n",
    "We use here choose the magnitudes from 'auto' apperture mode.\n",
    "\n",
    "Read mode about:\n",
    "     https://splus.cloud/documentation/DR4?Photometry\n",
    "'''\n",
    "columns = ['ID', 'Field', 'RA', 'DEC'] + [f'{b}_auto' for b in splus_bands] + [f's2n_{b}_auto' for b in splus_bands]\n",
    "print('Columns:', columns)\n",
    "\n",
    "filters = [(f's2n_{b}_auto', '>', 3) for b in splus_bands]\n",
    "print('Filters', filters)"
   ]
  },
  {
   "cell_type": "code",
   "execution_count": 4,
   "id": "22610ef4-3228-4b89-9045-cbf8b7c1bfcb",
   "metadata": {},
   "outputs": [
    {
     "name": "stderr",
     "output_type": "stream",
     "text": [
      "/home/lacerda/.local/lib/python3.10/site-packages/hipscat/io/file_io/file_io.py:320: UserWarning: point_map.fits file written in RING ordering, due to https://github.com/astronomy-commons/hipscat/issues/271. Converting to NESTED.\n",
      "  warnings.warn(\n"
     ]
    }
   ],
   "source": [
    "# Read more about the need of the margin cache server at:\n",
    "#      https://lsdb.readthedocs.io/en/stable/tutorials/margins.html    \n",
    "dr4dual_margin = lsdb.read_hipscat(dr4dual_margin_cache_hipscat)\n",
    "dr4sqg_margin = lsdb.read_hipscat(dr4sqg_margin_cache_hipscat)\n",
    "\n",
    "# Read DR4 dual HiPSCAT\n",
    "dr4dual = lsdb.read_hipscat(\n",
    "    dr4dual_hipscat,\n",
    "    margin_cache=dr4dual_margin,\n",
    "    # Read more about the available columns at:\n",
    "    #      https://splus.cloud/documentation/DR4?Schemas,_tables_and_columns\n",
    "    columns=columns,\n",
    "    #filters=filters,\n",
    ")\n",
    "\n",
    "# Read DR4 QSO/star/galaxy classification VAC HiPSCAT\n",
    "# Here we filter only objects where the galaxy probability\n",
    "# is greater than 80%\n",
    "dr4sqg = lsdb.read_hipscat(\n",
    "    dr4sqg_hipscat,\n",
    "    margin_cache=dr4sqg_margin,\n",
    "    filters=[('PROB_STAR', '>', 0.8)],\n",
    ")"
   ]
  },
  {
   "cell_type": "code",
   "execution_count": 5,
   "id": "1cb5675b-53d2-4593-8abd-700a244d98c9",
   "metadata": {},
   "outputs": [],
   "source": [
    "# Do the crossmatch of both catalogs. \n",
    "identity_radius = 1  # arcsec\n",
    "dr4dualsqg_crosmatch = dr4sqg.crossmatch(dr4dual, radius_arcsec=identity_radius)"
   ]
  },
  {
   "cell_type": "code",
   "execution_count": 6,
   "id": "fe06234b-f392-4c5f-b3a9-ea57a9e9df2a",
   "metadata": {},
   "outputs": [],
   "source": [
    "# Let's get the resultant table using a cone search:\n",
    "cone_center_coord = (201.6912083, -47.476861) # RA and DEC in degrees\n",
    "cone_radius = 2*3600 # arcsec\n",
    "objects_table = dr4dualsqg_crosmatch.cone_search(ra=cone_center_coord[0], dec=cone_center_coord[1], radius_arcsec=cone_radius).compute()"
   ]
  },
  {
   "cell_type": "code",
   "execution_count": 7,
   "id": "00d7580e-837b-4718-8263-21ebcc967daa",
   "metadata": {},
   "outputs": [
    {
     "data": {
      "text/plain": [
       "Text(0.5, 0, 'DEC_dual')"
      ]
     },
     "execution_count": 7,
     "metadata": {},
     "output_type": "execute_result"
    },
    {
     "data": {
      "image/png": "[encoded data removed]",
      "text/plain": [
       "<Figure size 700x300 with 2 Axes>"
      ]
     },
     "metadata": {},
     "output_type": "display_data"
    }
   ],
   "source": [
    "f, (ax1, ax2) = plt.subplots(1, 2)\n",
    "f.set_size_inches(7, 3)\n",
    "selection = objects_table['s2n_r_auto_dual'] > 10\n",
    "ra = objects_table['RA_dual']\n",
    "dec = objects_table['DEC_dual']\n",
    "x = cone_radius/3600\n",
    "ra_range = cone_center_coord[0]+np.array([-1.25*x, 1.25*x])\n",
    "dec_range = cone_center_coord[1]+np.array([-1.25*x, 1.25*x])\n",
    "ax1.hist(ra[selection], bins=35)  #, range=ra_range)\n",
    "ax1.set_xlabel('RA_dual')\n",
    "ax2.hist(dec[selection], bins=35)  #, range=dec_range)\n",
    "ax2.set_xlabel('DEC_dual')"
   ]
  },
  {
   "cell_type": "code",
   "execution_count": 8,
   "id": "f3549e37-19de-42d1-94ae-47c4364c79e2",
   "metadata": {},
   "outputs": [
    {
     "data": {
      "text/plain": [
       "Text(0, 0.5, '(g - r)_auto')"
      ]
     },
     "execution_count": 8,
     "metadata": {},
     "output_type": "execute_result"
    },
    {
     "data": {
      "image/png": "[encoded data removed]",
      "text/plain": [
       "<Figure size 640x480 with 2 Axes>"
      ]
     },
     "metadata": {},
     "output_type": "display_data"
    }
   ],
   "source": [
    "g_r = objects_table['g_auto_dual'] - objects_table['r_auto_dual']\n",
    "r = objects_table['r_auto_dual']\n",
    "SNr = objects_table['s2n_r_auto_dual']\n",
    "\n",
    "SN = 10\n",
    "mask = (objects_table['s2n_r_auto_dual'] > SN) | (objects_table['s2n_g_auto_dual'] > SN)\n",
    "mr = np.ma.masked_array(r, mask)\n",
    "mg_r = np.ma.masked_array(g_r, mask)\n",
    "mSNr = np.ma.masked_array(SNr, mask)\n",
    "f, ax = plt.subplots()\n",
    "#im = ax.hexbin(-mM, mc, bins=50, extent=[-23, -18, 0, 2])\n",
    "_, _, _, im = ax.hist2d(-mr, mg_r, bins=50, range=[[-24, -12], [-1, 3]])\n",
    "plt.colorbar(im, ax=ax)\n",
    "#ax.set_xlim(-23, -10)\n",
    "#ax.set_ylim(0, 3)\n",
    "ax.set_xlabel('r_auto')\n",
    "ax.set_ylabel('(g - r)_auto')"
   ]
  },
  {
   "cell_type": "code",
   "execution_count": 1,
   "id": "1a6e814a-98f3-4902-93be-2940cd053cd4",
   "metadata": {},
   "outputs": [],
   "source": [
    "from astropy.coordinates import SkyCoord"
   ]
  },
  {
   "cell_type": "code",
   "execution_count": 2,
   "id": "56b54888-bd4d-47b5-b947-36d853493c0a",
   "metadata": {},
   "outputs": [],
   "source": [
    "ra = '13h26m45.89s'\n",
    "dec = '-47°28′36.7″'\n",
    "c = SkyCoord(ra, dec)"
   ]
  },
  {
   "cell_type": "code",
   "execution_count": 7,
   "id": "d64eaaba-5c2a-4fce-94cd-27a520f4022d",
   "metadata": {},
   "outputs": [
    {
     "data": {
      "text/plain": [
       "-47.47686111111111"
      ]
     },
     "execution_count": 7,
     "metadata": {},
     "output_type": "execute_result"
    }
   ],
   "source": [
    "c.dec.value"
   ]
  },
  {
   "cell_type": "code",
   "execution_count": null,
   "id": "e075cec2-2d32-406d-a2f2-8643deec1eb4",
   "metadata": {},
   "outputs": [],
   "source": []
  }
 ],
 "metadata": {
  "kernelspec": {
   "display_name": "Python 3 (ipykernel)",
   "language": "python",
   "name": "python3"
  },
  "language_info": {
   "codemirror_mode": {
    "name": "ipython",
    "version": 3
   },
   "file_extension": ".py",
   "mimetype": "text/x-python",
   "name": "python",
   "nbconvert_exporter": "python",
   "pygments_lexer": "ipython3",
   "version": "3.10.12"
  }
 },
 "nbformat": 4,
 "nbformat_minor": 5
}
