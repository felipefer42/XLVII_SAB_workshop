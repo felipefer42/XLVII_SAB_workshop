{
 "cells": [
  {
   "cell_type": "markdown",
   "id": "81dec85d-ee8e-4cd5-aa3b-2d168834c03f",
   "metadata": {},
   "source": [
    "<h1> UNDER CONSTRUCTION </h1>\n",
    "\n",
    "Caso de uso de LSDB + dados S-PLUS (DR4) + Crossmatch\n",
    "\n",
    "1 - Diagrama cor X cor ou cor x mag: Fazer um cone-search em volta de algum cluster de galáxias e fazer um crossmatch com o VAC de identificação de galáxias\n",
    "1.1 - Podemos fazer alguns plots de espectros (auto) desses objetos, por exemplo, buscar os 5 que possuem J0660 maior.\n",
    "\n",
    "2 - Diagrama HR (esse é um pouco mais chatinho pq tem que fazer um crossmatch com os dados do GAIA3 e procurar as distâncias para calcular a magnitude absoluta)\n",
    "\n",
    "Parte técnica:\n",
    "\n",
    "    1 - splusdata: buscar servidores HiPSCat com os catálogos de dados do S-PLUS\n",
    "    2 - LSDB: Criar cliente dask para paralelismo e ler os catalogos escolhidos e as colunas escolhidas\n",
    "    3 - fazer o crossmatch (sem e com filtragem dos dados)\n",
    "    4 - fazer a busca (cone ou box) e computar as tabelas finais\n",
    "    5 - cozinha com os dados e fazer plots bonitos\n",
    "    6 - BONUS crosmatch com arquivos ?"
   ]
  },
  {
   "cell_type": "code",
   "execution_count": 1,
   "id": "9584cfef-1b73-424d-a0f8-3e0e4ed4611c",
   "metadata": {},
   "outputs": [],
   "source": [
    "import lsdb\n",
    "import splusdata\n",
    "import numpy as np\n",
    "from dask.distributed import Client\n",
    "from matplotlib import pyplot as plt"
   ]
  },
  {
   "cell_type": "code",
   "execution_count": 2,
   "id": "36cc0e6f-113d-40dd-b2a4-e34fe20abb04",
   "metadata": {},
   "outputs": [
    {
     "name": "stdout",
     "output_type": "stream",
     "text": [
      "<Client: 'tcp://127.0.0.1:42611' processes=10 threads=20, memory=74.51 GiB>\n"
     ]
    }
   ],
   "source": [
    "# Start a Dask client for the parallel process used by lsdb\n",
    "client = Client(n_workers=10, memory_limit='8GB')\n",
    "print(client) "
   ]
  },
  {
   "cell_type": "code",
   "execution_count": 3,
   "id": "ddb03d35-ac81-4b2f-bb69-b2211557c37f",
   "metadata": {},
   "outputs": [
    {
     "name": "stdout",
     "output_type": "stream",
     "text": [
      "dr4_vacs\n",
      "\tqso_z\n",
      "\t\thipscats\n",
      "\t\t\t['qso_z']\n",
      "\t\tmargins\n",
      "\t\t\t['qso_z_2arcsec']\n",
      "\tphotozs\n",
      "\t\thipscats\n",
      "\t\t\t['photozs']\n",
      "\t\tmargins\n",
      "\t\t\t['photozs_2arcsec']\n",
      "\tcalib_flag\n",
      "\t\thipscats\n",
      "\t\t\t['calib_flag']\n",
      "\t\tmargins\n",
      "\t\t\t['calib_flag_2arcsec']\n",
      "\tsqg\n",
      "\t\thipscats\n",
      "\t\t\t['sqg']\n",
      "\t\tmargins\n",
      "\t\t\t['sqg_2arcsec']\n",
      "sdr1\n",
      "\thipscats\n",
      "\t\t['shorts']\n",
      "\tmargins\n",
      "\t\t['shorts_2arcsec']\n",
      "dr4\n",
      "\thipscats\n",
      "\t\t['single', 'dual', 'psf']\n",
      "\tmargins\n",
      "\t\t['psf_2arcsec', 'single_2arcsec', 'dual_2arcsec']\n"
     ]
    }
   ],
   "source": [
    "# List HiPSCat catalogs available on S-PLUS servers\n",
    "def print_dict(d, i=0):\n",
    "    for k, v in d.items():\n",
    "        print('\\t'*i + str(k))\n",
    "        if isinstance(v, dict):\n",
    "            print_dict(v, i+1)\n",
    "        else:\n",
    "            print('\\t'*(i+1) + str(v))\n",
    "print_dict(splusdata.get_hipscats())"
   ]
  },
  {
   "cell_type": "code",
   "execution_count": 4,
   "id": "7a6d1c6a-46d1-44cc-b03f-f202f5a055f0",
   "metadata": {},
   "outputs": [
    {
     "name": "stdout",
     "output_type": "stream",
     "text": [
      "dr4/dual search: [['https://splus.cloud/HIPS/catalogs/dr4/dual/', 'https://splus.cloud/HIPS/catalogs/dr4/dual_2arcsec/']]\n",
      "dr4/sqg search: [['https://splus.cloud/HIPS/catalogs/dr4_vacs/sqg/sqg/', 'https://splus.cloud/HIPS/catalogs/dr4_vacs/sqg/sqg_2arcsec/']]\n"
     ]
    }
   ],
   "source": [
    "# search for the full S-PLUS DR4/dual mode catalog\n",
    "'''\n",
    "What is the difference between ‘single’, ‘dual’ and ‘psf’?\n",
    "Single yields photometry done using Sextractor on each image, \n",
    "for a given filter, using only that image as a detection image. \n",
    "Note that in this case, measured parameters such as radii are \n",
    "different for each filter. Dual yields photometry done using \n",
    "Sextractor on each image, for a given filter, using as a \n",
    "detection image the sum of g+r+i+z. Therefore, in dual mode, \n",
    "detections characterized in the same way are measured in every \n",
    "filter. Psf yields photometry done using dophot on each image, \n",
    "for a given filter, using only that image as a detection image. \n",
    "See Section ‘Photometry’ for more details.\n",
    "\n",
    "Photometry Section: \n",
    "    https://splus.cloud/documentation/DR4?Photometry\n",
    "'''\n",
    "dr4dual_search = splusdata.get_hipscats('dr4/dual')\n",
    "# Print all catalogs found with the pattern above\n",
    "print(f'dr4/dual search: {dr4dual_search}')\n",
    "# select the first catalog found\n",
    "dr4dual_hipscat, dr4dual_margin_cache_hipscat = dr4dual_search[0]\n",
    "\n",
    "# Search for the DR4 Star Galaxy Quasar VAC\n",
    "'''\n",
    "QSO/star/galaxy classification VAC: \n",
    "    https://splus.cloud/documentation/DR4?QSO/star/galaxy_classification\n",
    "'''\n",
    "dr4sqg_search = splusdata.get_hipscats('dr4/sqg')\n",
    "# Print all catalogs found with the pattern above\n",
    "print(f'dr4/sqg search: {dr4sqg_search}')\n",
    "# select the first catalog found\n",
    "dr4sqg_hipscat, dr4sqg_margin_cache_hipscat = dr4sqg_search[0]"
   ]
  },
  {
   "cell_type": "code",
   "execution_count": 5,
   "id": "6de14c4b-bd65-426f-a914-4c5f0107ec02",
   "metadata": {},
   "outputs": [
    {
     "name": "stdout",
     "output_type": "stream",
     "text": [
      "Columns: ['ID', 'Field', 'RA', 'DEC', 'u_auto', 'g_auto', 'r_auto', 'i_auto', 'z_auto', 'J0378_auto', 'J0395_auto', 'J0410_auto', 'J0430_auto', 'J0515_auto', 'J0660_auto', 'J0861_auto', 's2n_u_auto', 's2n_g_auto', 's2n_r_auto', 's2n_i_auto', 's2n_z_auto', 's2n_J0378_auto', 's2n_J0395_auto', 's2n_J0410_auto', 's2n_J0430_auto', 's2n_J0515_auto', 's2n_J0660_auto', 's2n_J0861_auto']\n",
      "Filters [('s2n_u_auto', '>', 3), ('s2n_g_auto', '>', 3), ('s2n_r_auto', '>', 3), ('s2n_i_auto', '>', 3), ('s2n_z_auto', '>', 3), ('s2n_J0378_auto', '>', 3), ('s2n_J0395_auto', '>', 3), ('s2n_J0410_auto', '>', 3), ('s2n_J0430_auto', '>', 3), ('s2n_J0515_auto', '>', 3), ('s2n_J0660_auto', '>', 3), ('s2n_J0861_auto', '>', 3)]\n"
     ]
    }
   ],
   "source": [
    "bands = [\n",
    "    'u', 'g', 'r', 'i', 'z', \n",
    "    'J0378', 'J0395', 'J0410',\n",
    "    'J0430', 'J0515', 'J0660', 'J0861',\n",
    "]\n",
    "columns = ['ID', 'Field', 'RA', 'DEC'] + [f'{b}_auto' for b in bands] + [f's2n_{b}_auto' for b in bands]\n",
    "print('Columns:', columns)\n",
    "filters = [(f's2n_{b}_auto', '>', 3) for b in bands]\n",
    "print('Filters', filters)"
   ]
  },
  {
   "cell_type": "code",
   "execution_count": 6,
   "id": "22610ef4-3228-4b89-9045-cbf8b7c1bfcb",
   "metadata": {},
   "outputs": [],
   "source": [
    "dr4dual = lsdb.read_hipscat(\n",
    "    dr4dual_hipscat,\n",
    "    # Read more about the need of the margin cache server at:\n",
    "    #      https://lsdb.readthedocs.io/en/stable/tutorials/margins.html    \n",
    "    margin_cache=lsdb.read_hipscat(dr4dual_margin_cache_hipscat),\n",
    "    # Read more about the available columns at:\n",
    "    #      https://splus.cloud/documentation/DR4?Schemas,_tables_and_columns\n",
    "    columns=columns,\n",
    "    #filters=filters,\n",
    ")"
   ]
  },
  {
   "cell_type": "code",
   "execution_count": 7,
   "id": "1841cb74-6a77-4cd4-8694-057193ef5c80",
   "metadata": {},
   "outputs": [
    {
     "data": {
      "text/plain": [
       "Index(['ID', 'Field', 'RA', 'DEC', 'u_auto', 'g_auto', 'r_auto', 'i_auto',\n",
       "       'z_auto', 'J0378_auto', 'J0395_auto', 'J0410_auto', 'J0430_auto',\n",
       "       'J0515_auto', 'J0660_auto', 'J0861_auto', 's2n_u_auto', 's2n_g_auto',\n",
       "       's2n_r_auto', 's2n_i_auto', 's2n_z_auto', 's2n_J0378_auto',\n",
       "       's2n_J0395_auto', 's2n_J0410_auto', 's2n_J0430_auto', 's2n_J0515_auto',\n",
       "       's2n_J0660_auto', 's2n_J0861_auto'],\n",
       "      dtype='object')"
      ]
     },
     "execution_count": 7,
     "metadata": {},
     "output_type": "execute_result"
    }
   ],
   "source": [
    "dr4dual.columns"
   ]
  },
  {
   "cell_type": "code",
   "execution_count": 8,
   "id": "52683f6d-8a99-4127-a4a5-f4346ad88cf0",
   "metadata": {},
   "outputs": [
    {
     "name": "stderr",
     "output_type": "stream",
     "text": [
      "/home/lacerda/.pyenv/versions/dev/lib/python3.12/site-packages/hipscat/io/file_io/file_io.py:320: UserWarning: point_map.fits file written in RING ordering, due to https://github.com/astronomy-commons/hipscat/issues/271. Converting to NESTED.\n",
      "  warnings.warn(\n"
     ]
    }
   ],
   "source": [
    "dr4sqg = lsdb.read_hipscat(\n",
    "    dr4sqg_hipscat,\n",
    "    margin_cache=lsdb.read_hipscat(dr4sqg_margin_cache_hipscat),\n",
    "    filters=[('PROB_GAL', '>', 0.8)],\n",
    ")"
   ]
  },
  {
   "cell_type": "code",
   "execution_count": 9,
   "id": "1cb5675b-53d2-4593-8abd-700a244d98c9",
   "metadata": {},
   "outputs": [],
   "source": [
    "dr4dualsqg_crosmatch = dr4sqg.crossmatch(dr4dual, radius_arcsec=1)"
   ]
  },
  {
   "cell_type": "code",
   "execution_count": 10,
   "id": "fe06234b-f392-4c5f-b3a9-ea57a9e9df2a",
   "metadata": {},
   "outputs": [],
   "source": [
    "result_table = dr4dualsqg_crosmatch.cone_search(ra=159, dec=-27, radius_arcsec=5*3600).compute()"
   ]
  },
  {
   "cell_type": "code",
   "execution_count": 13,
   "id": "00d7580e-837b-4718-8263-21ebcc967daa",
   "metadata": {},
   "outputs": [
    {
     "data": {
      "text/plain": [
       "Text(0.5, 0, 'DEC_dual')"
      ]
     },
     "execution_count": 13,
     "metadata": {},
     "output_type": "execute_result"
    },
    {
     "data": {
      "image/png": "[encoded data removed]",
      "text/plain": [
       "<Figure size 700x300 with 2 Axes>"
      ]
     },
     "metadata": {},
     "output_type": "display_data"
    }
   ],
   "source": [
    "f, (ax1, ax2) = plt.subplots(1, 2)\n",
    "f.set_size_inches(7, 3)\n",
    "selection = result_table['s2n_r_auto_dual'] > 10\n",
    "ax1.hist(result_table['RA_dual'][selection], bins=100, range=[152, 164])\n",
    "ax1.set_xlabel('RA_dual')\n",
    "ax2.hist(result_table['DEC_dual'][selection], bins=100, range=[-35, -18])\n",
    "ax2.set_xlabel('DEC_dual')"
   ]
  },
  {
   "cell_type": "code",
   "execution_count": 12,
   "id": "f3549e37-19de-42d1-94ae-47c4364c79e2",
   "metadata": {},
   "outputs": [
    {
     "data": {
      "text/plain": [
       "Text(0, 0.5, '(g - i)_auto')"
      ]
     },
     "execution_count": 12,
     "metadata": {},
     "output_type": "execute_result"
    },
    {
     "data": {
      "image/png": "[encoded data removed]",
      "text/plain": [
       "<Figure size 640x480 with 2 Axes>"
      ]
     },
     "metadata": {},
     "output_type": "display_data"
    }
   ],
   "source": [
    "g_r = result_table['g_auto_dual'] - result_table['r_auto_dual']\n",
    "r = result_table['r_auto_dual']\n",
    "SNr = result_table['s2n_r_auto_dual']\n",
    "\n",
    "SN = 10\n",
    "mask = (result_table['s2n_r_auto_dual'] > SN) | (result_table['s2n_g_auto_dual'] > SN)\n",
    "mr = np.ma.masked_array(r, mask)\n",
    "mg_r = np.ma.masked_array(g_r, mask)\n",
    "mSNr = np.ma.masked_array(SNr, mask)\n",
    "f, ax = plt.subplots()\n",
    "#im = ax.hexbin(-mM, mc, bins=50, extent=[-23, -18, 0, 2])\n",
    "_, _, _, im = ax.hist2d(-mr, mg_r, bins=50, range=[[-23, -18], [0, 2]])\n",
    "plt.colorbar(im, ax=ax)\n",
    "#ax.set_xlim(-23, -10)\n",
    "#ax.set_ylim(0, 3)\n",
    "ax.set_xlabel('r_auto')\n",
    "ax.set_ylabel('(g - i)_auto')"
   ]
  },
  {
   "cell_type": "code",
   "execution_count": null,
   "id": "d109f31a-76da-47cf-bfb9-a34a358122ae",
   "metadata": {},
   "outputs": [],
   "source": []
  }
 ],
 "metadata": {
  "kernelspec": {
   "display_name": "Python 3 (ipykernel)",
   "language": "python",
   "name": "python3"
  },
  "language_info": {
   "codemirror_mode": {
    "name": "ipython",
    "version": 3
   },
   "file_extension": ".py",
   "mimetype": "text/x-python",
   "name": "python",
   "nbconvert_exporter": "python",
   "pygments_lexer": "ipython3",
   "version": "3.12.3"
  }
 },
 "nbformat": 4,
 "nbformat_minor": 5
}
