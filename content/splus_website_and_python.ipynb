{
 "cells": [
  {
   "cell_type": "markdown",
   "metadata": {},
   "source": [
    "## S-PLUS: Accessing and Analyzing S-PLUS Data\n",
    "\n",
    "In this workshop, we will focus on two essential tools for accessing and manipulating these data: splus.cloud and the splusdata package. splus.cloud is the official data distribution platform for S-PLUS, allowing researchers and enthusiasts to download catalogs and images directly from the cloud. The splusdata package, on the other hand, is a library in Python designed to facilitate the search and processing of these data efficiently, integrating into the development environment.\n",
    "\n",
    "Throughout the workshop, you will learn how to use these tools to access, visualize, and analyze S-PLUS data, enabling you to explore the universe of possibilities offered by this survey.\n",
    "\n",
    "---\n",
    "\n",
    "### Register \n",
    "\n",
    "To access the data, you need to register on the splus.cloud platform. \n",
    "\n",
    "To do this, go to the [splus.cloud/register](https://splus.cloud/register). Fill in the required information and confirm your registration.\n",
    "\n",
    "![image](./images/register.png)\n",
    "\n",
    "### Installing splusdata\n",
    "\n",
    "To install the splusdata package, you can use pip:\n",
    "\n",
    "```bash\n",
    "pip install splusdata\n",
    "```"
   ]
  },
  {
   "cell_type": "markdown",
   "metadata": {},
   "source": [
    "## Getting started\n",
    "\n",
    "splus.cloud has a rich documentation that can be accessed at [splus.cloud/documentation](https://splus.cloud/documentation). There you will find all the information you need to start using the platform, including data information, how to download catalogs and images, and how to use the API.\n",
    "\n",
    "![docs](./images/documentation.png)"
   ]
  },
  {
   "cell_type": "markdown",
   "metadata": {},
   "source": [
    "## Logging in\n",
    "\n",
    "The same user that you used to register on the splus.cloud platform will be used to log in to the splusdata package."
   ]
  },
  {
   "cell_type": "code",
   "execution_count": 1,
   "metadata": {},
   "outputs": [],
   "source": [
    "import splusdata\n",
    "\n",
    "# This will ask for your S-PLUS username and password\n",
    "conn = splusdata.Core()"
   ]
  },
  {
   "cell_type": "markdown",
   "metadata": {},
   "source": [
    "#### In splus we have multiple tools to access catalogs and images. The main tools are:\n",
    "\n",
    "- **Image tools**:\n",
    "  - stamps: to get fits cutouts\n",
    "  - field_frame: to get whole field fits\n",
    "  - lupton_rgb: to create RGB images\n",
    "  - trilogy_image: to create RGB images\n",
    "  \n",
    "- **Catalog**:\n",
    "  - query: TAP query to get catalogs\n",
    "  - lsdb: fast data download\n",
    "\n",
    "![image](./images/tools.png)"
   ]
  },
  {
   "cell_type": "markdown",
   "metadata": {},
   "source": [
    "## Getting images"
   ]
  },
  {
   "cell_type": "markdown",
   "metadata": {},
   "source": [
    "### One band png image"
   ]
  },
  {
   "cell_type": "markdown",
   "metadata": {},
   "source": []
  }
 ],
 "metadata": {
  "kernelspec": {
   "display_name": "base",
   "language": "python",
   "name": "python3"
  },
  "language_info": {
   "codemirror_mode": {
    "name": "ipython",
    "version": 3
   },
   "file_extension": ".py",
   "mimetype": "text/x-python",
   "name": "python",
   "nbconvert_exporter": "python",
   "pygments_lexer": "ipython3",
   "version": "3.12.2"
  }
 },
 "nbformat": 4,
 "nbformat_minor": 2
}
